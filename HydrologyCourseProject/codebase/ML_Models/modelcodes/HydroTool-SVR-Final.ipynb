{
 "cells": [
  {
   "cell_type": "markdown",
   "metadata": {},
   "source": [
    "# Support Vector Regression "
   ]
  },
  {
   "cell_type": "code",
   "execution_count": 1,
   "metadata": {},
   "outputs": [],
   "source": [
    "#Importing all libraries \n",
    "import os \n",
    "import csv\n",
    "import pandas as pd \n",
    "import matplotlib.pyplot as plt \n",
    "import numpy as np\n",
    "import joblib \n",
    "import sklearn \n",
    "from sklearn.preprocessing import StandardScaler\n",
    "from sklearn.metrics import mean_squared_error as MSE\n",
    "from sklearn.svm import SVR"
   ]
  },
  {
   "cell_type": "code",
   "execution_count": 2,
   "metadata": {},
   "outputs": [
    {
     "output_type": "execute_result",
     "data": {
      "text/plain": [
       "   latitude  longitude  year  month  day        cp         e  ilspf  \\\n",
       "0     17.75      77.25  2019      5   30  0.000000 -0.000114    0.0   \n",
       "1     17.00      77.25  2018     10   23  0.000010 -0.000437    0.0   \n",
       "2     17.25      77.00  2019     11   25  0.000000 -0.000361    0.0   \n",
       "3     17.00      77.25  2018     10    2  0.000040 -0.000458    0.0   \n",
       "4     17.75      78.00  2018     11    3  0.000002 -0.000173    0.0   \n",
       "\n",
       "            lsp       pev      tcrw        tp     swvl1     swvl2  \\\n",
       "0  0.000000e+00 -0.001029  0.000000  0.000000  0.206655  0.219927   \n",
       "1  0.000000e+00 -0.000713  0.001960  0.000010  0.334029  0.332470   \n",
       "2  0.000000e+00 -0.000659  0.000000  0.000000  0.279484  0.327522   \n",
       "3  1.945253e-05 -0.000642  0.002063  0.000060  0.385430  0.340140   \n",
       "4  4.139729e-07 -0.000341  0.000000  0.000002  0.238017  0.265713   \n",
       "\n",
       "             ro  \n",
       "0  0.000000e+00  \n",
       "1  4.875474e-07  \n",
       "2  3.046822e-06  \n",
       "3  4.875474e-07  \n",
       "4  1.950190e-06  "
      ],
      "text/html": "<div>\n<style scoped>\n    .dataframe tbody tr th:only-of-type {\n        vertical-align: middle;\n    }\n\n    .dataframe tbody tr th {\n        vertical-align: top;\n    }\n\n    .dataframe thead th {\n        text-align: right;\n    }\n</style>\n<table border=\"1\" class=\"dataframe\">\n  <thead>\n    <tr style=\"text-align: right;\">\n      <th></th>\n      <th>latitude</th>\n      <th>longitude</th>\n      <th>year</th>\n      <th>month</th>\n      <th>day</th>\n      <th>cp</th>\n      <th>e</th>\n      <th>ilspf</th>\n      <th>lsp</th>\n      <th>pev</th>\n      <th>tcrw</th>\n      <th>tp</th>\n      <th>swvl1</th>\n      <th>swvl2</th>\n      <th>ro</th>\n    </tr>\n  </thead>\n  <tbody>\n    <tr>\n      <th>0</th>\n      <td>17.75</td>\n      <td>77.25</td>\n      <td>2019</td>\n      <td>5</td>\n      <td>30</td>\n      <td>0.000000</td>\n      <td>-0.000114</td>\n      <td>0.0</td>\n      <td>0.000000e+00</td>\n      <td>-0.001029</td>\n      <td>0.000000</td>\n      <td>0.000000</td>\n      <td>0.206655</td>\n      <td>0.219927</td>\n      <td>0.000000e+00</td>\n    </tr>\n    <tr>\n      <th>1</th>\n      <td>17.00</td>\n      <td>77.25</td>\n      <td>2018</td>\n      <td>10</td>\n      <td>23</td>\n      <td>0.000010</td>\n      <td>-0.000437</td>\n      <td>0.0</td>\n      <td>0.000000e+00</td>\n      <td>-0.000713</td>\n      <td>0.001960</td>\n      <td>0.000010</td>\n      <td>0.334029</td>\n      <td>0.332470</td>\n      <td>4.875474e-07</td>\n    </tr>\n    <tr>\n      <th>2</th>\n      <td>17.25</td>\n      <td>77.00</td>\n      <td>2019</td>\n      <td>11</td>\n      <td>25</td>\n      <td>0.000000</td>\n      <td>-0.000361</td>\n      <td>0.0</td>\n      <td>0.000000e+00</td>\n      <td>-0.000659</td>\n      <td>0.000000</td>\n      <td>0.000000</td>\n      <td>0.279484</td>\n      <td>0.327522</td>\n      <td>3.046822e-06</td>\n    </tr>\n    <tr>\n      <th>3</th>\n      <td>17.00</td>\n      <td>77.25</td>\n      <td>2018</td>\n      <td>10</td>\n      <td>2</td>\n      <td>0.000040</td>\n      <td>-0.000458</td>\n      <td>0.0</td>\n      <td>1.945253e-05</td>\n      <td>-0.000642</td>\n      <td>0.002063</td>\n      <td>0.000060</td>\n      <td>0.385430</td>\n      <td>0.340140</td>\n      <td>4.875474e-07</td>\n    </tr>\n    <tr>\n      <th>4</th>\n      <td>17.75</td>\n      <td>78.00</td>\n      <td>2018</td>\n      <td>11</td>\n      <td>3</td>\n      <td>0.000002</td>\n      <td>-0.000173</td>\n      <td>0.0</td>\n      <td>4.139729e-07</td>\n      <td>-0.000341</td>\n      <td>0.000000</td>\n      <td>0.000002</td>\n      <td>0.238017</td>\n      <td>0.265713</td>\n      <td>1.950190e-06</td>\n    </tr>\n  </tbody>\n</table>\n</div>"
     },
     "metadata": {},
     "execution_count": 2
    }
   ],
   "source": [
    "# Data Files \n",
    "testFile='./data/test.csv'\n",
    "trainFile='./data/train.csv'\n",
    "df=pd.read_csv(trainFile)\n",
    "df.head()"
   ]
  },
  {
   "cell_type": "code",
   "execution_count": 14,
   "metadata": {},
   "outputs": [],
   "source": [
    "def preProcessing(dataframe):\n",
    "    #Split into X,y \n",
    "    #Scale them\n",
    "    df1=dataframe[['cp','e','ilspf','lsp','pev','tcrw','tp','swvl1','swvl2','ro']]\n",
    "    X = df1.iloc[:,:8].values.astype(float)\n",
    "    y = df1.iloc[:,-1].values.astype(float)\n",
    "    X=np.reshape(X,(-1,8))\n",
    "    y=np.reshape(y,(-1,1))\n",
    "    sc_X = StandardScaler()\n",
    "    sc_y = StandardScaler()\n",
    "    X = sc_X.fit_transform(X)\n",
    "    y = sc_y.fit_transform(y)\n",
    "    return(X,y,sc_X,sc_y)"
   ]
  },
  {
   "cell_type": "code",
   "execution_count": 15,
   "metadata": {},
   "outputs": [
    {
     "output_type": "stream",
     "name": "stdout",
     "text": [
      "(17337, 8)\n(17337, 1)\n[-0.37698086  1.86727592 -0.38875237 -0.14678389 -1.59503255 -0.20562039\n -0.24838408 -0.96510798]\n[-0.07059821]\n"
     ]
    }
   ],
   "source": [
    "# Training it on the file.\n",
    "X,y,sx,sy=preProcessing(df)\n",
    "print(X.shape)\n",
    "print(y.shape)\n",
    "print(X[0])\n",
    "print(y[0])"
   ]
  },
  {
   "cell_type": "code",
   "execution_count": 16,
   "metadata": {},
   "outputs": [
    {
     "output_type": "stream",
     "name": "stdout",
     "text": [
      "(913, 8)\n(913, 1)\n"
     ]
    }
   ],
   "source": [
    "# Testing \n",
    "X_test,y_test,sxt,syt=preProcessing(pd.read_csv(testFile))\n",
    "print(X_test.shape)\n",
    "print(y_test.shape)"
   ]
  },
  {
   "cell_type": "markdown",
   "metadata": {},
   "source": [
    "# Kernel-RBF"
   ]
  },
  {
   "cell_type": "code",
   "execution_count": 17,
   "metadata": {},
   "outputs": [
    {
     "output_type": "execute_result",
     "data": {
      "text/plain": [
       "SVR(C=1.0, cache_size=200, coef0=0.0, degree=3, epsilon=0.1,\n",
       "  gamma='auto_deprecated', kernel='rbf', max_iter=-1, shrinking=True,\n",
       "  tol=0.001, verbose=False)"
      ]
     },
     "metadata": {},
     "execution_count": 17
    }
   ],
   "source": [
    "# Fitting the SVR \n",
    "rbf_reg = SVR(kernel='rbf')\n",
    "rbf_reg.fit(X,y.ravel())"
   ]
  },
  {
   "cell_type": "code",
   "execution_count": 27,
   "metadata": {},
   "outputs": [
    {
     "output_type": "stream",
     "name": "stdout",
     "text": [
      "1.0722267439661577e-11\n"
     ]
    }
   ],
   "source": [
    "# Loss Generation. \n",
    "y_pred_test = sy.inverse_transform((rbf_reg.predict(X_test)))\n",
    "loss=1/913*(MSE(sy.inverse_transform(y_test),y_pred_test))\n",
    "print(loss)"
   ]
  },
  {
   "cell_type": "code",
   "execution_count": 19,
   "metadata": {},
   "outputs": [
    {
     "output_type": "execute_result",
     "data": {
      "text/plain": [
       "['./model_files/SVR_RBF.sav']"
      ]
     },
     "metadata": {},
     "execution_count": 19
    }
   ],
   "source": [
    "# Storing the files \n",
    "joblib.dump(rbf_reg,'./model_files/'+str('SVR_')+str('RBF')+'.sav')"
   ]
  },
  {
   "cell_type": "markdown",
   "metadata": {},
   "source": [
    "## Kernel - linear\n"
   ]
  },
  {
   "cell_type": "code",
   "execution_count": 20,
   "metadata": {},
   "outputs": [
    {
     "output_type": "execute_result",
     "data": {
      "text/plain": [
       "SVR(C=1.0, cache_size=200, coef0=0.0, degree=3, epsilon=0.1,\n",
       "  gamma='auto_deprecated', kernel='linear', max_iter=-1, shrinking=True,\n",
       "  tol=0.001, verbose=False)"
      ]
     },
     "metadata": {},
     "execution_count": 20
    }
   ],
   "source": [
    "# Fitting the SVR \n",
    "lin_reg = SVR(kernel='linear')\n",
    "lin_reg.fit(X,y.ravel())"
   ]
  },
  {
   "cell_type": "code",
   "execution_count": 26,
   "metadata": {},
   "outputs": [
    {
     "output_type": "stream",
     "name": "stdout",
     "text": [
      "9.888033234263935e-12\n"
     ]
    }
   ],
   "source": [
    "# Loss Generation. \n",
    "y_pred_test = sy.inverse_transform((lin_reg.predict(X_test)))\n",
    "loss=1/913*(MSE(sy.inverse_transform(y_test),y_pred_test))\n",
    "print(loss)"
   ]
  },
  {
   "cell_type": "code",
   "execution_count": 22,
   "metadata": {},
   "outputs": [
    {
     "output_type": "execute_result",
     "data": {
      "text/plain": [
       "['./model_files/SVR_LINEAR.sav']"
      ]
     },
     "metadata": {},
     "execution_count": 22
    }
   ],
   "source": [
    "# Storing the files \n",
    "joblib.dump(lin_reg,'./model_files/'+str('SVR_')+str('LINEAR')+'.sav')"
   ]
  },
  {
   "cell_type": "markdown",
   "metadata": {},
   "source": [
    "# Kernel-Polynomial(Degree=3)\n"
   ]
  },
  {
   "cell_type": "code",
   "execution_count": 23,
   "metadata": {},
   "outputs": [
    {
     "output_type": "execute_result",
     "data": {
      "text/plain": [
       "SVR(C=1.0, cache_size=200, coef0=0.0, degree=2, epsilon=0.1,\n",
       "  gamma='auto_deprecated', kernel='poly', max_iter=-1, shrinking=True,\n",
       "  tol=0.001, verbose=False)"
      ]
     },
     "metadata": {},
     "execution_count": 23
    }
   ],
   "source": [
    "# Fitting the SVR \n",
    "poly_reg = SVR(kernel='poly',degree=2)\n",
    "poly_reg.fit(X,y.ravel())"
   ]
  },
  {
   "cell_type": "code",
   "execution_count": 28,
   "metadata": {},
   "outputs": [
    {
     "output_type": "stream",
     "name": "stdout",
     "text": [
      "1.702653648407953e-12\n"
     ]
    }
   ],
   "source": [
    "# Loss Generation. \n",
    "y_pred_test = sy.inverse_transform((poly_reg.predict(X_test)))\n",
    "loss=1/913*(MSE(sy.inverse_transform(y_test),y_pred_test))\n",
    "print(loss)"
   ]
  },
  {
   "cell_type": "code",
   "execution_count": 25,
   "metadata": {},
   "outputs": [
    {
     "output_type": "execute_result",
     "data": {
      "text/plain": [
       "['./model_files/SVR_POLYNOMIAL.sav']"
      ]
     },
     "metadata": {},
     "execution_count": 25
    }
   ],
   "source": [
    "# Storing the files \n",
    "joblib.dump(poly_reg,'./model_files/'+str('SVR_')+str('POLYNOMIAL')+'.sav')"
   ]
  },
  {
   "cell_type": "code",
   "execution_count": 38,
   "metadata": {},
   "outputs": [],
   "source": [
    "svr_linear=joblib.load('/home/niharika/Desktop/Hydrological_Modelling/Final_Hydro/Model_Codes/model_files/SVR_LINEAR.sav')\n",
    "svr_poly=joblib.load('/home/niharika/Desktop/Hydrological_Modelling/Final_Hydro/Model_Codes/model_files/SVR_POLYNOMIAL.sav')\n",
    "svr_rbf=joblib.load('/home/niharika/Desktop/Hydrological_Modelling/Final_Hydro/Model_Codes/model_files/SVR_RBF.sav')\n"
   ]
  },
  {
   "cell_type": "code",
   "execution_count": 39,
   "metadata": {},
   "outputs": [],
   "source": [
    "df_test=pd.read_csv('/home/niharika/Desktop/Hydrological_Modelling/Final_Hydro/Model_Codes/data/graph_Test.csv')\n",
    "df_test_vals=pd.read_csv('/home/niharika/Desktop/Hydrological_Modelling/Final_Hydro/Model_Codes/data/graph_test_gd.csv')"
   ]
  },
  {
   "cell_type": "code",
   "execution_count": 40,
   "metadata": {},
   "outputs": [
    {
     "output_type": "stream",
     "name": "stdout",
     "text": [
      "(87, 6)\n"
     ]
    }
   ],
   "source": [
    "print(df_test.shape)"
   ]
  },
  {
   "cell_type": "code",
   "execution_count": 51,
   "metadata": {},
   "outputs": [
    {
     "output_type": "stream",
     "name": "stdout",
     "text": [
      "(87, 5)\n(87,)\n"
     ]
    }
   ],
   "source": [
    "X_test=df_test[['cp','lsp','swvl1','ro','sd']].values.astype(float)\n",
    "X_test=np.reshape(X_test,(-1,5))\n",
    "X_test=sx.transform(X_test)\n",
    "print(X_test.shape)\n",
    "\n",
    "y_test=df_test_vals['dis'].values.astype('float')\n",
    "print(y_test.shape)"
   ]
  },
  {
   "cell_type": "code",
   "execution_count": 53,
   "metadata": {},
   "outputs": [
    {
     "output_type": "stream",
     "name": "stdout",
     "text": [
      "21.689333433982164\n"
     ]
    }
   ],
   "source": [
    "# Loss Generation. \n",
    "y_pred_test = sy.inverse_transform((rbf_reg.predict(X_test)))\n",
    "loss=1/1461*(MSE((y_test),y_pred_test))\n",
    "print(loss)"
   ]
  },
  {
   "cell_type": "code",
   "execution_count": null,
   "metadata": {},
   "outputs": [],
   "source": []
  }
 ],
 "metadata": {
  "kernelspec": {
   "display_name": "Python 3",
   "language": "python",
   "name": "python3"
  },
  "language_info": {
   "codemirror_mode": {
    "name": "ipython",
    "version": 3
   },
   "file_extension": ".py",
   "mimetype": "text/x-python",
   "name": "python",
   "nbconvert_exporter": "python",
   "pygments_lexer": "ipython3",
   "version": "3.6.9-final"
  }
 },
 "nbformat": 4,
 "nbformat_minor": 4
}