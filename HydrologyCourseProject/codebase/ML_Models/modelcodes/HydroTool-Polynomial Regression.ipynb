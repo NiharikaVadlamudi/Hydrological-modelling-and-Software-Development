{
 "cells": [
  {
   "cell_type": "markdown",
   "metadata": {},
   "source": [
    "# Polynomial Regression"
   ]
  },
  {
   "cell_type": "code",
   "execution_count": 1,
   "metadata": {},
   "outputs": [],
   "source": [
    "# Importing libraries\n",
    "import os \n",
    "import csv\n",
    "import pandas as pd \n",
    "import matplotlib.pyplot as plt \n",
    "import numpy as np\n",
    "import joblib \n",
    "import sklearn \n",
    "from sklearn.preprocessing import StandardScaler\n",
    "from sklearn.metrics import mean_squared_error as MSE\n",
    "from sklearn.model_selection import cross_val_score\n",
    "from sklearn.preprocessing import PolynomialFeatures\n",
    "from sklearn.linear_model import LinearRegression"
   ]
  },
  {
   "cell_type": "code",
   "execution_count": 2,
   "metadata": {},
   "outputs": [
    {
     "output_type": "execute_result",
     "data": {
      "text/plain": [
       "   latitude  longitude  year  month  day        cp         e  ilspf  \\\n",
       "0     17.75      77.25  2019      5   30  0.000000 -0.000114    0.0   \n",
       "1     17.00      77.25  2018     10   23  0.000010 -0.000437    0.0   \n",
       "2     17.25      77.00  2019     11   25  0.000000 -0.000361    0.0   \n",
       "3     17.00      77.25  2018     10    2  0.000040 -0.000458    0.0   \n",
       "4     17.75      78.00  2018     11    3  0.000002 -0.000173    0.0   \n",
       "\n",
       "            lsp       pev      tcrw        tp     swvl1     swvl2  \\\n",
       "0  0.000000e+00 -0.001029  0.000000  0.000000  0.206655  0.219927   \n",
       "1  0.000000e+00 -0.000713  0.001960  0.000010  0.334029  0.332470   \n",
       "2  0.000000e+00 -0.000659  0.000000  0.000000  0.279484  0.327522   \n",
       "3  1.945253e-05 -0.000642  0.002063  0.000060  0.385430  0.340140   \n",
       "4  4.139729e-07 -0.000341  0.000000  0.000002  0.238017  0.265713   \n",
       "\n",
       "             ro  \n",
       "0  0.000000e+00  \n",
       "1  4.875474e-07  \n",
       "2  3.046822e-06  \n",
       "3  4.875474e-07  \n",
       "4  1.950190e-06  "
      ],
      "text/html": "<div>\n<style scoped>\n    .dataframe tbody tr th:only-of-type {\n        vertical-align: middle;\n    }\n\n    .dataframe tbody tr th {\n        vertical-align: top;\n    }\n\n    .dataframe thead th {\n        text-align: right;\n    }\n</style>\n<table border=\"1\" class=\"dataframe\">\n  <thead>\n    <tr style=\"text-align: right;\">\n      <th></th>\n      <th>latitude</th>\n      <th>longitude</th>\n      <th>year</th>\n      <th>month</th>\n      <th>day</th>\n      <th>cp</th>\n      <th>e</th>\n      <th>ilspf</th>\n      <th>lsp</th>\n      <th>pev</th>\n      <th>tcrw</th>\n      <th>tp</th>\n      <th>swvl1</th>\n      <th>swvl2</th>\n      <th>ro</th>\n    </tr>\n  </thead>\n  <tbody>\n    <tr>\n      <th>0</th>\n      <td>17.75</td>\n      <td>77.25</td>\n      <td>2019</td>\n      <td>5</td>\n      <td>30</td>\n      <td>0.000000</td>\n      <td>-0.000114</td>\n      <td>0.0</td>\n      <td>0.000000e+00</td>\n      <td>-0.001029</td>\n      <td>0.000000</td>\n      <td>0.000000</td>\n      <td>0.206655</td>\n      <td>0.219927</td>\n      <td>0.000000e+00</td>\n    </tr>\n    <tr>\n      <th>1</th>\n      <td>17.00</td>\n      <td>77.25</td>\n      <td>2018</td>\n      <td>10</td>\n      <td>23</td>\n      <td>0.000010</td>\n      <td>-0.000437</td>\n      <td>0.0</td>\n      <td>0.000000e+00</td>\n      <td>-0.000713</td>\n      <td>0.001960</td>\n      <td>0.000010</td>\n      <td>0.334029</td>\n      <td>0.332470</td>\n      <td>4.875474e-07</td>\n    </tr>\n    <tr>\n      <th>2</th>\n      <td>17.25</td>\n      <td>77.00</td>\n      <td>2019</td>\n      <td>11</td>\n      <td>25</td>\n      <td>0.000000</td>\n      <td>-0.000361</td>\n      <td>0.0</td>\n      <td>0.000000e+00</td>\n      <td>-0.000659</td>\n      <td>0.000000</td>\n      <td>0.000000</td>\n      <td>0.279484</td>\n      <td>0.327522</td>\n      <td>3.046822e-06</td>\n    </tr>\n    <tr>\n      <th>3</th>\n      <td>17.00</td>\n      <td>77.25</td>\n      <td>2018</td>\n      <td>10</td>\n      <td>2</td>\n      <td>0.000040</td>\n      <td>-0.000458</td>\n      <td>0.0</td>\n      <td>1.945253e-05</td>\n      <td>-0.000642</td>\n      <td>0.002063</td>\n      <td>0.000060</td>\n      <td>0.385430</td>\n      <td>0.340140</td>\n      <td>4.875474e-07</td>\n    </tr>\n    <tr>\n      <th>4</th>\n      <td>17.75</td>\n      <td>78.00</td>\n      <td>2018</td>\n      <td>11</td>\n      <td>3</td>\n      <td>0.000002</td>\n      <td>-0.000173</td>\n      <td>0.0</td>\n      <td>4.139729e-07</td>\n      <td>-0.000341</td>\n      <td>0.000000</td>\n      <td>0.000002</td>\n      <td>0.238017</td>\n      <td>0.265713</td>\n      <td>1.950190e-06</td>\n    </tr>\n  </tbody>\n</table>\n</div>"
     },
     "metadata": {},
     "execution_count": 2
    }
   ],
   "source": [
    "# Data Files \n",
    "testFile='./data/test.csv'\n",
    "trainFile='./data/train.csv'\n",
    "df=pd.read_csv(trainFile)\n",
    "df.head()"
   ]
  },
  {
   "cell_type": "code",
   "execution_count": 3,
   "metadata": {},
   "outputs": [],
   "source": [
    "def preProcessing(dataframe):\n",
    "    #Split into X,y \n",
    "    #Scale them\n",
    "    df1=dataframe[['cp','e','ilspf','lsp','pev','tcrw','tp','swvl1','swvl2','ro']]\n",
    "    X = df1.iloc[:,:8].values.astype(float)\n",
    "    y = df1.iloc[:,-1].values.astype(float)\n",
    "    X=np.reshape(X,(-1,8))\n",
    "    y=np.reshape(y,(-1,1))\n",
    "    sc_X = StandardScaler()\n",
    "    sc_y = StandardScaler()\n",
    "    X = sc_X.fit_transform(X)\n",
    "    y = sc_y.fit_transform(y)\n",
    "    return(X,y,sc_X,sc_y)"
   ]
  },
  {
   "cell_type": "code",
   "execution_count": 4,
   "metadata": {},
   "outputs": [
    {
     "output_type": "stream",
     "name": "stdout",
     "text": [
      "(17337, 8)\n(17337, 1)\n"
     ]
    }
   ],
   "source": [
    "# Training it on the file.\n",
    "X,y,sx,sy=preProcessing(df)\n",
    "print(X.shape)\n",
    "print(y.shape)"
   ]
  },
  {
   "cell_type": "code",
   "execution_count": 6,
   "metadata": {},
   "outputs": [
    {
     "output_type": "stream",
     "name": "stdout",
     "text": [
      "(913, 8)\n(913, 1)\n"
     ]
    }
   ],
   "source": [
    "# Testing \n",
    "X_test,y_test,sxt,syt=preProcessing(pd.read_csv(testFile))\n",
    "print(X_test.shape)\n",
    "print(y_test.shape)\n"
   ]
  },
  {
   "cell_type": "markdown",
   "metadata": {},
   "source": [
    "# Training .."
   ]
  },
  {
   "cell_type": "code",
   "execution_count": 9,
   "metadata": {},
   "outputs": [],
   "source": [
    "#Setting degree =3 \n",
    "polynomial_features= PolynomialFeatures(degree=3)\n",
    "x_poly = polynomial_features.fit_transform(X)\n",
    "model = LinearRegression()\n",
    "model=model.fit(x_poly, y)"
   ]
  },
  {
   "cell_type": "code",
   "execution_count": 10,
   "metadata": {},
   "outputs": [
    {
     "output_type": "stream",
     "name": "stdout",
     "text": [
      "0.0013040565675006804\n"
     ]
    }
   ],
   "source": [
    "#Testing..\n",
    "y_pred_test = sy.inverse_transform((model.predict(polynomial_features.fit_transform(X_test))))\n",
    "loss=1/913*(MSE(sy.inverse_transform(y_test),y_pred_test))\n",
    "print(loss)\n"
   ]
  },
  {
   "cell_type": "code",
   "execution_count": 10,
   "metadata": {},
   "outputs": [
    {
     "output_type": "execute_result",
     "data": {
      "text/plain": [
       "['./model_files/Linear_Regression_2.sav']"
      ]
     },
     "metadata": {},
     "execution_count": 10
    }
   ],
   "source": [
    "# Storing the files \n",
    "joblib.dump(model,str('./model_files/Linear_Regression_2')+'.sav')"
   ]
  },
  {
   "cell_type": "code",
   "execution_count": null,
   "metadata": {},
   "outputs": [],
   "source": []
  }
 ],
 "metadata": {
  "kernelspec": {
   "display_name": "Python 3",
   "language": "python",
   "name": "python3"
  },
  "language_info": {
   "codemirror_mode": {
    "name": "ipython",
    "version": 3
   },
   "file_extension": ".py",
   "mimetype": "text/x-python",
   "name": "python",
   "nbconvert_exporter": "python",
   "pygments_lexer": "ipython3",
   "version": "3.6.9-final"
  }
 },
 "nbformat": 4,
 "nbformat_minor": 4
}